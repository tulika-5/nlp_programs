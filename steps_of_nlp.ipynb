{
 "cells": [
  {
   "cell_type": "code",
   "execution_count": null,
   "id": "f199be22",
   "metadata": {},
   "outputs": [],
   "source": [
    "#steps of natural language processing:-\n"
   ]
  },
  {
   "cell_type": "code",
   "execution_count": null,
   "id": "0eaaec75",
   "metadata": {},
   "outputs": [],
   "source": [
    "import nltk\n",
    "from nltk.tokenize import word_tokenize, sent_tokenize\n",
    "from nltk.corpus import stopwords\n",
    "from nltk.stem import PorterStemmer\n",
    "from nltk import pos_tag, ne_chunk"
   ]
  },
  {
   "cell_type": "code",
   "execution_count": null,
   "id": "8aca642e",
   "metadata": {},
   "outputs": [],
   "source": [
    "nltk.download('punkt')\n",
    "nltk.download('stopwords')\n",
    "nltk.download('averaged_perceptron_tagger')\n",
    "nltk.download('maxent_ne_chunker')\n",
    "nltk.download('words')"
   ]
  },
  {
   "cell_type": "code",
   "execution_count": null,
   "id": "af3f166a",
   "metadata": {},
   "outputs": [],
   "source": [
    "text=input(\"Enter your sentence:\")"
   ]
  },
  {
   "cell_type": "code",
   "execution_count": null,
   "id": "f991f048",
   "metadata": {},
   "outputs": [],
   "source": [
    "#Step 1: Tokenization\n",
    "tokens = word_tokenize(text)\n",
    "print(\"Step 1: Tokenization\")\n",
    "print(tokens)\n",
    "print()"
   ]
  },
  {
   "cell_type": "code",
   "execution_count": null,
   "id": "e356d317",
   "metadata": {},
   "outputs": [],
   "source": [
    "# Step 2: Stopword Removal\n",
    "stop_words = set(stopwords.words('english'))\n",
    "filtered_tokens = [word for word in tokens if word.lower() not in stop_words]\n",
    "print(\"Step 2: Stopword Removal\")\n",
    "print(filtered_tokens)\n",
    "print()"
   ]
  },
  {
   "cell_type": "code",
   "execution_count": null,
   "id": "5dc8635f",
   "metadata": {},
   "outputs": [],
   "source": [
    "# Step 3: Stemming\n",
    "stemmer = PorterStemmer()\n",
    "stemmed_tokens = [stemmer.stem(word) for word in filtered_tokens]\n",
    "print(\"Step 3: Stemming\")\n",
    "print(stemmed_tokens)\n",
    "print()"
   ]
  },
  {
   "cell_type": "code",
   "execution_count": null,
   "id": "37ec72b2",
   "metadata": {},
   "outputs": [],
   "source": [
    "# Step 4: Part-of-Speech Tagging\n",
    "pos_tags = pos_tag(filtered_tokens)\n",
    "print(\"Step 4: Part-of-Speech Tagging\")\n",
    "print(pos_tags)\n",
    "print()\n"
   ]
  },
  {
   "cell_type": "code",
   "execution_count": null,
   "id": "d997d848",
   "metadata": {},
   "outputs": [],
   "source": [
    "# Step 5: Named Entity Recognition (NER)\n",
    "ner_tags = ne_chunk(pos_tags)\n",
    "print(\"Step 5: Named Entity Recognition (NER)\")\n",
    "print(ner_tags)"
   ]
  },
  {
   "cell_type": "code",
   "execution_count": null,
   "id": "39e6802a",
   "metadata": {},
   "outputs": [],
   "source": []
  },
  {
   "cell_type": "code",
   "execution_count": null,
   "id": "c91fb121",
   "metadata": {},
   "outputs": [],
   "source": []
  }
 ],
 "metadata": {
  "kernelspec": {
   "display_name": "Python 3 (ipykernel)",
   "language": "python",
   "name": "python3"
  },
  "language_info": {
   "codemirror_mode": {
    "name": "ipython",
    "version": 3
   },
   "file_extension": ".py",
   "mimetype": "text/x-python",
   "name": "python",
   "nbconvert_exporter": "python",
   "pygments_lexer": "ipython3",
   "version": "3.11.5"
  }
 },
 "nbformat": 4,
 "nbformat_minor": 5
}
